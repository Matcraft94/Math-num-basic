{
 "cells": [
  {
   "cell_type": "markdown",
   "metadata": {},
   "source": [
    "# Numeros Primos"
   ]
  },
  {
   "cell_type": "code",
   "execution_count": 58,
   "metadata": {},
   "outputs": [],
   "source": [
    "import numpy as np\n",
    "\n",
    "import matplotlib.pyplot as plt\n",
    "\n",
    "import time"
   ]
  },
  {
   "cell_type": "markdown",
   "metadata": {},
   "source": [
    "## ¿Es primo?"
   ]
  },
  {
   "cell_type": "code",
   "execution_count": 59,
   "metadata": {},
   "outputs": [],
   "source": [
    "def is_prime1(n: int) -> bool:\n",
    "    if n == 1:\n",
    "        return False\n",
    "\n",
    "    if n % 2 == 0 and n >2:\n",
    "        return False\n",
    "    \n",
    "    n_s = np.sqrt(n)\n",
    "    \n",
    "    seq = [n % (2*x + 1) for x in range(1, int(n_s / 2) + 1)]\n",
    "\n",
    "    for i in range (len(seq)):\n",
    "        if seq[i] == 0:\n",
    "            return False\n",
    "\n",
    "    return True"
   ]
  },
  {
   "cell_type": "code",
   "execution_count": 60,
   "metadata": {},
   "outputs": [],
   "source": [
    "def is_prime2(n: int) -> bool:\n",
    "    if n == 1:\n",
    "        return False\n",
    "    \n",
    "    if n % 2 == 0 and n >2:\n",
    "        return False\n",
    "    \n",
    "    n_s = np.sqrt(n)\n",
    "    \n",
    "    seq = [n % x for x in range(2, int(n_s) + 1)]\n",
    "    #print(len(seq))\n",
    "\n",
    "    seq = np.array(seq)\n",
    "\n",
    "    seq = np.where(seq == 0, 1, 0)\n",
    "\n",
    "    if sum(seq) >= 1:\n",
    "        return False\n",
    "    else:\n",
    "        return True"
   ]
  },
  {
   "cell_type": "code",
   "execution_count": 61,
   "metadata": {},
   "outputs": [],
   "source": [
    "def is_prime3(n: int) -> bool:\n",
    "    if n == 1:\n",
    "        return False\n",
    "    \n",
    "    if n % 2 == 0 and n >2:\n",
    "        return False\n",
    "    \n",
    "    n_s = np.sqrt(n)\n",
    "    \n",
    "    seq = [n % (2*x + 1) for x in range(1, int(n_s/2) + 1)]\n",
    "    #print(len(seq))\n",
    "    \n",
    "    seq = np.array(seq)\n",
    "\n",
    "    seq = np.where(seq == 0, 1, 0)\n",
    "\n",
    "    if sum(seq) >= 1:\n",
    "        return False\n",
    "    else:\n",
    "        return True"
   ]
  },
  {
   "cell_type": "code",
   "execution_count": 62,
   "metadata": {},
   "outputs": [
    {
     "data": {
      "text/plain": [
       "False"
      ]
     },
     "execution_count": 62,
     "metadata": {},
     "output_type": "execute_result"
    }
   ],
   "source": [
    "is_prime1(57)"
   ]
  },
  {
   "cell_type": "code",
   "execution_count": 63,
   "metadata": {},
   "outputs": [
    {
     "data": {
      "text/plain": [
       "False"
      ]
     },
     "execution_count": 63,
     "metadata": {},
     "output_type": "execute_result"
    }
   ],
   "source": [
    "is_prime2(57)"
   ]
  },
  {
   "cell_type": "code",
   "execution_count": 64,
   "metadata": {},
   "outputs": [
    {
     "data": {
      "text/plain": [
       "False"
      ]
     },
     "execution_count": 64,
     "metadata": {},
     "output_type": "execute_result"
    }
   ],
   "source": [
    "is_prime3(57)"
   ]
  },
  {
   "cell_type": "markdown",
   "metadata": {},
   "source": [
    "### Pruebas de eficiencia"
   ]
  },
  {
   "cell_type": "code",
   "execution_count": 65,
   "metadata": {},
   "outputs": [],
   "source": [
    "x = 100"
   ]
  },
  {
   "cell_type": "code",
   "execution_count": 66,
   "metadata": {},
   "outputs": [
    {
     "name": "stdout",
     "output_type": "stream",
     "text": [
      "CPU times: user 177 µs, sys: 71 µs, total: 248 µs\n",
      "Wall time: 253 µs\n"
     ]
    }
   ],
   "source": [
    "%%time\n",
    "for i in range(1, x + 1):\n",
    "    is_prime1(i)"
   ]
  },
  {
   "cell_type": "code",
   "execution_count": 67,
   "metadata": {},
   "outputs": [
    {
     "name": "stdout",
     "output_type": "stream",
     "text": [
      "CPU times: user 453 µs, sys: 0 ns, total: 453 µs\n",
      "Wall time: 456 µs\n"
     ]
    }
   ],
   "source": [
    "%%time\n",
    "for i in range(1, x + 1):\n",
    "    is_prime2(i)"
   ]
  },
  {
   "cell_type": "code",
   "execution_count": 68,
   "metadata": {},
   "outputs": [
    {
     "name": "stdout",
     "output_type": "stream",
     "text": [
      "CPU times: user 683 µs, sys: 0 ns, total: 683 µs\n",
      "Wall time: 689 µs\n"
     ]
    }
   ],
   "source": [
    "%%time\n",
    "for i in range(1, x + 1):\n",
    "    is_prime3(i)"
   ]
  },
  {
   "cell_type": "markdown",
   "metadata": {},
   "source": [
    "Iniciamos las pruebas de eficiencia y grafico comparativo"
   ]
  },
  {
   "cell_type": "code",
   "execution_count": 69,
   "metadata": {},
   "outputs": [],
   "source": [
    "ns = 10\n",
    "nf = 100\n",
    "\n",
    "n_step = 5"
   ]
  },
  {
   "cell_type": "code",
   "execution_count": 70,
   "metadata": {},
   "outputs": [],
   "source": [
    "t1 = []\n",
    "for i in range(ns, nf, n_step):\n",
    "    ts1 = time.time_ns()\n",
    "    is_prime1(i)\n",
    "    tf1 = time.time_ns() - ts1\n",
    "    t1.append(tf1)"
   ]
  },
  {
   "cell_type": "code",
   "execution_count": 71,
   "metadata": {},
   "outputs": [],
   "source": [
    "t2 = []\n",
    "for i in range(ns, nf, n_step):\n",
    "    ts2 = time.time_ns()\n",
    "    is_prime2(i)\n",
    "    tf2 = time.time_ns() - ts2\n",
    "    t2.append(tf2)"
   ]
  },
  {
   "cell_type": "code",
   "execution_count": 72,
   "metadata": {},
   "outputs": [],
   "source": [
    "t3 = []\n",
    "for i in range(ns, nf, n_step):\n",
    "    ts3 = time.time_ns()\n",
    "    is_prime3(i)\n",
    "    tf3 = time.time_ns() - ts3\n",
    "    t3.append(tf3)"
   ]
  },
  {
   "cell_type": "code",
   "execution_count": 73,
   "metadata": {},
   "outputs": [
    {
     "data": {
      "image/png": "[encoded data removed]",
      "text/plain": [
       "<Figure size 1296x648 with 1 Axes>"
      ]
     },
     "metadata": {
      "needs_background": "light"
     },
     "output_type": "display_data"
    }
   ],
   "source": [
    "plt.figure(figsize=(18,9))\n",
    "plt.title('Eficiencia de los algoritmos de prueba de primos')\n",
    "plt.plot(t1, 'ro--', color = 'red', linewidth=1, label = 'is_prime1')\n",
    "plt.plot(t2, 'ro--', color = 'blue', linewidth=1, label = 'is_prime2')\n",
    "plt.plot(t3, 'ro--', color = 'green', linewidth=1, label = 'is_prime3')\n",
    "plt.legend()\n",
    "plt.show()"
   ]
  },
  {
   "cell_type": "markdown",
   "metadata": {},
   "source": [
    "## Buscar Primos"
   ]
  },
  {
   "cell_type": "code",
   "execution_count": 74,
   "metadata": {},
   "outputs": [],
   "source": [
    "def find_primes(ns: int, nf:int) -> list:\n",
    "    \n",
    "    primes = []\n",
    "    \n",
    "    for i in range(ns, nf + 1):\n",
    "        if is_prime1(i):\n",
    "            primes.append(i)\n",
    "    \n",
    "    return primes"
   ]
  },
  {
   "cell_type": "code",
   "execution_count": 75,
   "metadata": {},
   "outputs": [],
   "source": [
    "def find_first_primes(n: int) -> list:\n",
    "    if n <= 0:\n",
    "        return []\n",
    "    \n",
    "    primes = [2]\n",
    "\n",
    "    if n == 1:\n",
    "        return primes\n",
    "    \n",
    "    count = 3\n",
    "    while len(primes) < n:\n",
    "        \n",
    "        if is_prime1(count):\n",
    "            primes.append(count)\n",
    "        \n",
    "        count += 2\n",
    "\n",
    "    return primes"
   ]
  },
  {
   "cell_type": "code",
   "execution_count": 76,
   "metadata": {},
   "outputs": [],
   "source": [
    "ns = 1\n",
    "nf = 20"
   ]
  },
  {
   "cell_type": "code",
   "execution_count": 77,
   "metadata": {},
   "outputs": [
    {
     "data": {
      "text/plain": [
       "[2, 3, 5, 7, 11, 13, 17, 19]"
      ]
     },
     "execution_count": 77,
     "metadata": {},
     "output_type": "execute_result"
    }
   ],
   "source": [
    "find_primes(ns, nf)"
   ]
  },
  {
   "cell_type": "code",
   "execution_count": 78,
   "metadata": {},
   "outputs": [
    {
     "data": {
      "text/plain": [
       "[2, 3, 5, 7, 11, 13, 17, 19, 23, 29, 31, 37, 41, 43, 47, 53, 59, 61, 67, 71]"
      ]
     },
     "execution_count": 78,
     "metadata": {},
     "output_type": "execute_result"
    }
   ],
   "source": [
    "n = 20\n",
    "\n",
    "find_first_primes(n)"
   ]
  },
  {
   "cell_type": "markdown",
   "metadata": {},
   "source": [
    "## Primos Gemelos"
   ]
  },
  {
   "cell_type": "code",
   "execution_count": 79,
   "metadata": {},
   "outputs": [],
   "source": [
    "def twins_primes(ns: int, nf: int) -> list:\n",
    "    twins_primes = []\n",
    "\n",
    "    primes = np.array(find_primes(ns, nf))\n",
    "\n",
    "    if len(primes) < 2:\n",
    "        return []\n",
    "\n",
    "    position = np.diff(primes)\n",
    "    \n",
    "    index = 0\n",
    "    while index < len(position) - 1:\n",
    "        tmp = []\n",
    "        if position[index] == 2:\n",
    "            tmp.append(primes[index])\n",
    "            tmp.append(primes[index + 1])\n",
    "            twins_primes.append(tmp)\n",
    "        \n",
    "        index += 1\n",
    "\n",
    "    return twins_primes\n"
   ]
  },
  {
   "cell_type": "code",
   "execution_count": 80,
   "metadata": {},
   "outputs": [],
   "source": [
    "def twins_first_primes(n: int) -> list:\n",
    "    twins_primes = []\n",
    "\n",
    "    primes = np.array(find_first_primes(n))\n",
    "\n",
    "    if len(primes) < 2:\n",
    "        return []\n",
    "\n",
    "    position = np.diff(primes)\n",
    "    \n",
    "    index = 0\n",
    "    while index < len(position) - 1:\n",
    "        tmp = []\n",
    "        if position[index] == 2:\n",
    "            tmp.append(primes[index])\n",
    "            tmp.append(primes[index + 1])\n",
    "            twins_primes.append(tmp)\n",
    "        \n",
    "        index += 1\n",
    "\n",
    "    return twins_primes"
   ]
  },
  {
   "cell_type": "code",
   "execution_count": 81,
   "metadata": {},
   "outputs": [
    {
     "data": {
      "text/plain": [
       "[[3, 5], [5, 7], [11, 13], [17, 19], [29, 31], [41, 43], [59, 61], [71, 73]]"
      ]
     },
     "execution_count": 81,
     "metadata": {},
     "output_type": "execute_result"
    }
   ],
   "source": [
    "twins_primes(2, 100)"
   ]
  },
  {
   "cell_type": "code",
   "execution_count": 82,
   "metadata": {},
   "outputs": [
    {
     "data": {
      "text/plain": [
       "[[3, 5], [5, 7], [11, 13], [17, 19]]"
      ]
     },
     "execution_count": 82,
     "metadata": {},
     "output_type": "execute_result"
    }
   ],
   "source": [
    "twins_first_primes(10)"
   ]
  },
  {
   "cell_type": "markdown",
   "metadata": {},
   "source": [
    "## Numero de **Brun**"
   ]
  },
  {
   "cell_type": "code",
   "execution_count": 83,
   "metadata": {},
   "outputs": [],
   "source": [
    "n_approx = 10000\n",
    "\n",
    "primes = np.array(twins_first_primes(n_approx))\n",
    "\n",
    "primes = 1/primes"
   ]
  },
  {
   "cell_type": "code",
   "execution_count": 84,
   "metadata": {},
   "outputs": [
    {
     "data": {
      "text/plain": [
       "1.673696879915452"
      ]
     },
     "execution_count": 84,
     "metadata": {},
     "output_type": "execute_result"
    }
   ],
   "source": [
    "sum(sum(primes))"
   ]
  },
  {
   "cell_type": "markdown",
   "metadata": {},
   "source": [
    "## Serie de diferencias de inversos de primos gemelos"
   ]
  },
  {
   "cell_type": "code",
   "execution_count": 91,
   "metadata": {},
   "outputs": [],
   "source": [
    "n_approx = 100000\n",
    "\n",
    "primes = np.array(twins_first_primes(n_approx))\n",
    "\n",
    "primes = 1 / primes"
   ]
  },
  {
   "cell_type": "code",
   "execution_count": 92,
   "metadata": {},
   "outputs": [
    {
     "data": {
      "text/plain": [
       "0.21596794076796888"
      ]
     },
     "execution_count": 92,
     "metadata": {},
     "output_type": "execute_result"
    }
   ],
   "source": [
    "sum(-np.diff(primes))[0]"
   ]
  }
 ],
 "metadata": {
  "kernelspec": {
   "display_name": "Python 3.8.10 64-bit",
   "language": "python",
   "name": "python3"
  },
  "language_info": {
   "codemirror_mode": {
    "name": "ipython",
    "version": 3
   },
   "file_extension": ".py",
   "mimetype": "text/x-python",
   "name": "python",
   "nbconvert_exporter": "python",
   "pygments_lexer": "ipython3",
   "version": "3.8.10"
  },
  "orig_nbformat": 4,
  "vscode": {
   "interpreter": {
    "hash": "916dbcbb3f70747c44a77c7bcd40155683ae19c65e1c03b4aa3499c5328201f1"
   }
  }
 },
 "nbformat": 4,
 "nbformat_minor": 2
}
