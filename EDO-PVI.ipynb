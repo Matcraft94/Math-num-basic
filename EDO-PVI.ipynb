{
 "cells": [
  {
   "cell_type": "markdown",
   "metadata": {},
   "source": [
    "## Ecuaciones Diferenciasles Ordinarias - Problemas de Valor Inicial\n",
    "\n",
    "Una ecuacion diferencial ordinaria es una relacion entre una funcion $f(x)$, su variable dependiente $x$ y cualqueir numero de sus derivadas. Una ecuación diferencial ordinaria o EDO es una ecuación diferencial donde la variable independiente, y por lo tanto también las derivadas, están en una dimensión. Asumimos que una EDO puede escribirse\n",
    "$$F\\left(x,f(x),\\dfrac{df(x)}{dx},\\ldots,\\dfrac{d^{n-1}f(x)}{dx^{n-1}}\\right)=\\dfrac{d^nf(x)}{dx^n},$$\n",
    "donde $F$ es una función arbitraria que incorpora uno o todos los argumentos de entrada, y $n$ es el orden de la ecuación diferencial. Esta ecuación se denomina EDO de n-esimo orden."
   ]
  },
  {
   "cell_type": "markdown",
   "metadata": {},
   "source": [
    "Para dar un ejemplo de una EDO, considere un péndulo de longitud $l$ con una masa $m$, en su extremo. El ángulo que forma el péndulo con el eje vertical a lo largo del tiempo, $\\theta(t)$, en presencia de gravedad vertical $g$, se puede describir mediante la ecuación del péndulo, que es la EDO\n",
    "$$ml\\dfrac{d^2\\theta(t)}{dt^2}=-mg\\sin(\\theta(t)).$$\n",
    "\n",
    "Considerando angulos muy pequenos, sabemos que $\\sim(\\theta)\\approx\\theta$, por tanto\n",
    "$$l\\dfrac{d^2\\theta}{dt}=-g\\theta.$$\n",
    "En este sentido, $\\theta(t)=\\theta_0\\cos\\left(\\sqrt{\\dfrac{g}{l}t}\\right)$ es una solucion general, siempre que la condicion inicial sea $\\theta(t=0)=\\theta_0$."
   ]
  },
  {
   "cell_type": "markdown",
   "metadata": {},
   "source": [
    "## Reduccion de orden\n",
    "\n",
    "Consideremos la sigueinte EDO\n",
    "$$f^{(n)}(t)=F\\big(t,f'(t),\\ldots,f^{(n-1)}(t)\\big).$$\n",
    "Es util tomar el estado\n",
    "$$S(t)=\\begin{bmatrix} f(t) \\\\ f'(t) \\\\ \\vdots \\\\ f^{(n-1)}(t) \\end{bmatrix},$$\n",
    "pues podemos ver que\n",
    "$$\\dfrac{d}{dt}S(t)=\\begin{bmatrix} f'(t) \\\\ f^{(2)}(t) \\\\ \\vdots \\\\ f^{(n)}(t) \\end{bmatrix}= \\begin{bmatrix} S_2(t) \\\\ S_3(t) \\\\ \\vdots \\\\ F\\big(t,f'(t),\\ldots,f^{(n-1)}(t)\\big) \\end{bmatrix}.$$\n",
    "\n",
    "Este metodo nos permite reescribir cualquier EDO en un sistema de EDSs de primer orden."
   ]
  },
  {
   "cell_type": "markdown",
   "metadata": {},
   "source": [
    "En particular para nuestro ejemplo del pendulo, ele stado lo podemos definir como\n",
    "$$S(t)=\\begin{bmatrix} \\theta(t) \\\\ \\theta'(t)\\end{bmatrix}.$$\n",
    "Y por tando obtenemos\n",
    "$$\\dfrac{d}{dt}S(t)=\\begin{bmatrix} 0 & 1 // -\\dfrac{g}{l} & 0\\end{bmatrix}S(t).$$"
   ]
  },
  {
   "cell_type": "code",
   "execution_count": 1,
   "metadata": {},
   "outputs": [],
   "source": [
    "import numpy as np\n",
    "from numpy.linalg import inv\n",
    "import matplotlib.pyplot as plt\n",
    "\n",
    "plt.style.use('seaborn-poster')\n",
    "\n",
    "%matplotlib inline "
   ]
  },
  {
   "cell_type": "markdown",
   "metadata": {},
   "source": [
    "## Metodo de Euler\n",
    "\n",
    "En este metodo hacemos una discretizacion del intervalo y utilizamos diferencias finitas para reemplazar las derivadas y convertir nuestra EDO en un sistema de ecuaciones.\n",
    "\n",
    "Por ejemplo, consideremos la EDO\n",
    "$$\\dfrac{d}{dt}S(t)=F(t,S(t)),$$\n",
    "utilizando la aproximacion de diferencias finitas hacia adelante tenemos\n",
    "$$S(t_{j+1})=S(t_j)+hF(t_j,S(t_j)).$$\n",
    "A esta formula se la conoce como **Euler Explicita**, que permite calcular una paroximacion del estado $S(t_{j+1})$ dado el estado $S(t_j)$. Empezando por $S_0=S(t_0)$."
   ]
  },
  {
   "cell_type": "markdown",
   "metadata": {},
   "source": [
    "Resolvamos numericamente la EDO\n",
    "$$\\dfrac{df(t)}{dt}=e^{-t}, f(t=0)=-1.$$\n",
    "Esta EDo tiene por solucion exacta $f(t)=-e^{-t}$."
   ]
  },
  {
   "cell_type": "code",
   "execution_count": 2,
   "metadata": {},
   "outputs": [],
   "source": [
    "# Definimos parametros\n",
    "f = lambda t, s: np.exp(-t) # EDO\n",
    "h = 0.1 # tamano del paso\n",
    "t = np.arange(0, 1 + h, h) # Malla\n",
    "s0 = -1 # Condicion inicial"
   ]
  },
  {
   "cell_type": "code",
   "execution_count": 3,
   "metadata": {},
   "outputs": [],
   "source": [
    "# Metodo de Euler Explicito\n",
    "s = np.zeros(len(t))\n",
    "s[0] = s0\n",
    "\n",
    "for i in range(0, len(t) - 1):\n",
    "    s[i + 1] = s[i] + h*f(t[i], s[i])"
   ]
  },
  {
   "cell_type": "code",
   "execution_count": null,
   "metadata": {},
   "outputs": [],
   "source": [
    "plt.figure(figsize = (12, 8))\n",
    "plt.plot(t, s, 'b--', label='Aproximacion')\n",
    "plt.plot(t, -np.exp(-t), 'g', label='Sol. Exacta')\n",
    "plt.title('Aproximacion y Solucion Exacta para una EDO simple')\n",
    "plt.xlabel('t')\n",
    "plt.ylabel('f(t)')\n",
    "plt.grid()\n",
    "plt.legend(loc='lower right')\n",
    "plt.show()"
   ]
  },
  {
   "cell_type": "markdown",
   "metadata": {},
   "source": [
    "### Error numerico  y Estabilidad"
   ]
  },
  {
   "cell_type": "markdown",
   "metadata": {},
   "source": [
    "Vamos a hacer una comparacion entre los Metodos de Euler implicito y explicito, con la regla del trapecio y la solucion exacta."
   ]
  },
  {
   "cell_type": "code",
   "execution_count": null,
   "metadata": {},
   "outputs": [],
   "source": [
    "h = 0.1 # tamano de paso\n",
    "t = np.arange(0, 5.1, h) # malla\n",
    "w = 4 # frecuancia de oscilacion del pendulo\n",
    "s0 = np.array([[1], [0]]) # Condicion inicial"
   ]
  },
  {
   "cell_type": "code",
   "execution_count": null,
   "metadata": {},
   "outputs": [],
   "source": [
    "# Euler Explicito\n",
    "m_e = np.array([[1, h], \n",
    "               [-w**2*h, 1]])\n",
    "\n",
    "# Euler Implicito\n",
    "m_i = inv(np.array([[1, -h], \n",
    "               [w**2*h, 1]]))\n",
    "\n",
    "# Metodo del Trapecio\n",
    "m_t = np.dot(inv(np.array([[1, -h/2], \n",
    "    [w**2*h/2,1]])), np.array(\n",
    "      [[1,h/2], [-w**2*h/2, 1]]))"
   ]
  },
  {
   "cell_type": "code",
   "execution_count": null,
   "metadata": {},
   "outputs": [],
   "source": [
    "s_e = np.zeros((len(t), 2))\n",
    "s_i = np.zeros((len(t), 2))\n",
    "s_t = np.zeros((len(t), 2))"
   ]
  },
  {
   "cell_type": "code",
   "execution_count": null,
   "metadata": {},
   "outputs": [],
   "source": [
    "# hacemos las integraciones\n",
    "s_e[0, :] = s0.T\n",
    "s_i[0, :] = s0.T\n",
    "s_t[0, :] = s0.T\n",
    "\n",
    "for j in range(0, len(t)-1):\n",
    "    s_e[j+1, :] = np.dot(m_e,s_e[j, :])\n",
    "    s_i[j+1, :] = np.dot(m_i,s_i[j, :])\n",
    "    s_t[j+1, :] = np.dot(m_t,s_t[j, :])"
   ]
  },
  {
   "cell_type": "code",
   "execution_count": null,
   "metadata": {},
   "outputs": [],
   "source": [
    "plt.figure(figsize = (12, 8))\n",
    "plt.plot(t,s_e[:,0],'b-')\n",
    "plt.plot(t,s_i[:,0],'g:')\n",
    "plt.plot(t,s_t[:,0],'r--')\n",
    "plt.plot(t, np.cos(w*t), 'k')\n",
    "plt.ylim([-3, 3])\n",
    "plt.xlabel('t')\n",
    "plt.ylabel('$\\Theta (t)$')\n",
    "plt.legend(['Explicito', 'Implicito', \\\n",
    "            'Trapezoide', 'Exacta'])\n",
    "plt.show()"
   ]
  },
  {
   "cell_type": "markdown",
   "metadata": {},
   "source": [
    "## Metodo de Runge Kutta\n",
    "\n",
    "Los métodos de Runge Kutta son uno de los métodos más utilizados para resolver EDOs. A diferencia del método de Euler que utiliza los dos primeros términos de la serie de Taylor para aproximar la integración numérica, los metodos de Runge Kutta utilizamas terminos, y estos metodos se ramifican dependiendo el numero de terminos a utilizar."
   ]
  },
  {
   "cell_type": "markdown",
   "metadata": {},
   "source": [
    "### Metodo de Runge Kutta de Segundo orden\n",
    "\n",
    "Consideremos $\\dfrac{d}{dt}S(t)=F(t,S(t))$, podemos asumir una formula de integracion de la forma\n",
    "$$S(t+h)=S(t)+c_1F(t,S(t))h+c_2F\\big(t+ph,S(t)+qhF(t,S(T))\\big)h.$$\n",
    "Los los aprametros $c_q$, $c_2$, $p$ y $q$ pueden econtrarse igualando la formula anterior a la expansion en Series de Taylor de segundo orden de $S(t)$. De donde, una eleccion popular suele ser $$c_1,c_2=\\dfrac{1}{2}, \\quad p,q=1.$$\n",
    "\n",
    "De donde el metodo queda como\n",
    "$$\\begin{cases} k_1=F(t_j,S(t_j)) \\\\ k_2=F\\big(t_j+ph,S(t_j)+qhk_1\\big) \\\\ S(t_{j+1})=S(t_j)+\\dfrac{1}{2}(k_1+k_2)h \\end{cases}$$"
   ]
  },
  {
   "cell_type": "markdown",
   "metadata": {},
   "source": [
    "### Metodo de Runge Kutta de Segundo orden\n",
    "\n",
    "El metodo de Runge Kutta de orden 4 se ve como\n",
    "$$\\begin{cases} k_1=F(t_j,S(t_j)) \\\\ k_2=F\\big(t_j+\\dfrac{h}{2},S(t_j)+\\dfrac{1}{2}k_1h\\big) \\\\ k_3=F\\big(t_j+\\dfrac{h}{2},S(t_j)+\\dfrac{1}{2}k_2h\\big) \\\\ k_4=F(t_j+h,S(t_j)+k_3h) \\\\ S(t_{j+1})=S(t_j)+\\dfrac{h}{6}(k_1+2k_3+2k_3+k_4). \\end{cases}$$\n",
    "\n",
    "Este metodo tiene orden $O(h^4)$."
   ]
  },
  {
   "cell_type": "markdown",
   "metadata": {},
   "source": [
    "## Solvers de EDOs de Python"
   ]
  },
  {
   "cell_type": "code",
   "execution_count": null,
   "metadata": {},
   "outputs": [],
   "source": [
    "import matplotlib.pyplot as plt\n",
    "import numpy as np\n",
    "from scipy.integrate import solve_ivp\n",
    "\n",
    "plt.style.use('seaborn-poster')\n",
    "\n",
    "%matplotlib inline"
   ]
  },
  {
   "cell_type": "markdown",
   "metadata": {},
   "source": [
    "Necesitamos un objetp funcion F que calcule $$\\begin{cases} \\dfrac{d}{dt}S(t)=F(t,S(t)) \\\\ S(t_0)=S_0,\\end{cases}$$ donde $t$ es una nvariable independiente unidimensional (tiempo), $S(t)$ es una funcion vector valuada n-dimensional (estado), y $F(t,S(t))$ define una EDO. $S_0$ el valor inicial para $S$. La funcion $F$ debe ser de la forma $dS=F(t,S)$.\n",
    "\n",
    "La forma de utilizar el solver es: `solve_ivp(fun, t_span, s0, method = 'RK45', t_eval=None)`\n",
    "- `fun` toma la función en el lado derecho del sistema.\n",
    "- `t_span` es el intervalo de integración `(t0,tf)`, donde `t0` es el inicio y `tf` es el final del intervalo. `s0` es el estado inicial.\n",
    "- Hay un par de métodos que podemos elegir, el predeterminado es `RK45`, que es el método explícito de Runge-Kutta de orden 5 o 4 respectivamente. También hay otros métodos que puede utilizar.\n",
    "- `t_eval` toma en cuenta los tiempos en los que almacenar la solución calculada, y debe ordenarse y estar dentro de `t_span`."
   ]
  },
  {
   "cell_type": "markdown",
   "metadata": {},
   "source": [
    "Consideremos la EDO $$\\dfrac{d}{dt}S(t)=\\cos(t)$$ con valor inicial $S_0=0$. La solucion exactqa es $S(t)=\\sin(t)$."
   ]
  },
  {
   "cell_type": "code",
   "execution_count": null,
   "metadata": {},
   "outputs": [],
   "source": [
    "# Definimos la funcion F\n",
    "F = lambda t, s: np.cos(t)\n",
    "\n",
    "# El intervalo de la EDO\n",
    "t_eval = np.arange(0, np.pi, 0.1)\n",
    "\n",
    "# Resolvemos la EDO\n",
    "sol = solve_ivp(F, [0, np.pi], [0], t_eval=t_eval)"
   ]
  },
  {
   "cell_type": "code",
   "execution_count": null,
   "metadata": {},
   "outputs": [],
   "source": [
    "plt.figure(figsize = (12, 4))\n",
    "plt.subplot(121)\n",
    "plt.plot(sol.t, sol.y[0])\n",
    "plt.xlabel('t')\n",
    "plt.ylabel('S(t)')\n",
    "plt.subplot(122)\n",
    "plt.plot(sol.t, sol.y[0] - np.sin(sol.t))\n",
    "plt.xlabel('t')\n",
    "plt.ylabel('S(t) - sin(t)')\n",
    "plt.tight_layout()\n",
    "plt.show()"
   ]
  },
  {
   "cell_type": "markdown",
   "metadata": {},
   "source": [
    "Usando `rtol` y `atol` para hacer la diferencia entre la solución aproximada y la exacta es menor que `1e-7`."
   ]
  },
  {
   "cell_type": "code",
   "execution_count": null,
   "metadata": {},
   "outputs": [],
   "source": [
    "sol = solve_ivp(F, [0, np.pi], [0], t_eval=t_eval, rtol = 1e-8, atol = 1e-8)"
   ]
  },
  {
   "cell_type": "code",
   "execution_count": null,
   "metadata": {},
   "outputs": [],
   "source": [
    "plt.figure(figsize = (12, 4))\n",
    "plt.subplot(121)\n",
    "plt.plot(sol.t, sol.y[0])\n",
    "plt.xlabel('t')\n",
    "plt.ylabel('S(t)')\n",
    "plt.subplot(122)\n",
    "plt.plot(sol.t, sol.y[0] - np.sin(sol.t))\n",
    "plt.xlabel('t')\n",
    "plt.ylabel('S(t) - sin(t)')\n",
    "plt.tight_layout()\n",
    "plt.show()"
   ]
  },
  {
   "cell_type": "markdown",
   "metadata": {},
   "source": [
    "Consideremos la EDo $$\\dfrac{d}{dt}S(t)=-S(t),$$ con valor inicial $S_0=1$. La solucion exacata es $S(t)=e^{-t}$."
   ]
  },
  {
   "cell_type": "code",
   "execution_count": null,
   "metadata": {},
   "outputs": [],
   "source": [
    "# Definamos la funcion F\n",
    "F = lambda t, s: -s\n",
    "\n",
    "# Malla del tiempo\n",
    "t_eval = np.arange(0, 1.01, 0.01)\n",
    "\n",
    "# Calculo de la Solucion aproximada\n",
    "ol = solve_ivp(F, [0, 1], [1], t_eval=t_eval)"
   ]
  },
  {
   "cell_type": "code",
   "execution_count": null,
   "metadata": {},
   "outputs": [],
   "source": [
    "plt.figure(figsize = (12, 4))\n",
    "plt.subplot(121)\n",
    "plt.plot(sol.t, sol.y[0])\n",
    "plt.xlabel('t')\n",
    "plt.ylabel('S(t)')\n",
    "plt.subplot(122)\n",
    "plt.plot(sol.t, sol.y[0] - np.exp(-sol.t))\n",
    "plt.xlabel('t')\n",
    "plt.ylabel('S(t) - exp(-t)')\n",
    "plt.tight_layout()\n",
    "plt.show()"
   ]
  },
  {
   "cell_type": "markdown",
   "metadata": {},
   "source": [
    "Consideremos el sistema de EDOs $$\\dfrac{d}{dt}S(t)=\\begin{bmatrix} 0  & t^2 // -t & 0\\end{bmatrix}S(t),$$ con condicion inicial $S_0=\\begin{bmatrix} 1 \\\\ 1 \\end{bmatrix}$."
   ]
  },
  {
   "cell_type": "code",
   "execution_count": null,
   "metadata": {},
   "outputs": [],
   "source": [
    "# Definamos la funcion vector valuada F\n",
    "F = lambda t, s: np.dot(np.array([[0, t**2], [-t, 0]]), s)\n",
    "\n",
    "# Discretizacion del tiempo\n",
    "t_eval = np.arange(0, 10.01, 0.01)\n",
    "\n",
    "# Calculo de la Solucion\n",
    "sol = solve_ivp(F, [0, 10], [1, 1], t_eval=t_eval)"
   ]
  },
  {
   "cell_type": "code",
   "execution_count": null,
   "metadata": {},
   "outputs": [],
   "source": [
    "plt.figure(figsize = (12, 8))\n",
    "plt.plot(sol.y.T[:, 0], sol.y.T[:, 1], linewidth=1)\n",
    "plt.xlabel('x')\n",
    "plt.ylabel('y')\n",
    "plt.show()"
   ]
  },
  {
   "cell_type": "markdown",
   "metadata": {},
   "source": [
    "## Metodos Multipaso\n",
    "\n",
    "Solo vimos un metodo multipaso (Runge Kutta), sin embargo hay varios metodos y los mas usuales son: metodo de Adams–Bashforth, metodo de Adams–Moulton y las formulas de diferenciacion hacia atras (BDFs)."
   ]
  },
  {
   "cell_type": "markdown",
   "metadata": {},
   "source": [
    "## Rigidez EDO (Stiffness ODE)\n",
    "\n",
    "La **rigidez** es un concepto difícil e importante en la solución numérica de EDOs. Una EDO rígida hará que la solución que se busca varíe lentamente y no sea estable, es decir, si hay soluciones cercanas, la solución cambiará drásticamente. Esto nos obligará a dar pequeños pasos para obtener resultados razonables. Por lo tanto, la rigidez suele ser un problema de eficiencia: si no nos preocupamos por el costo de cálculo, no nos preocuparíamos por la rigidez.\n",
    "\n",
    "A menudo necesitamos modelar fenómenos físicos con escalas de tiempo o escalas espaciales muy diferentes. Estas aplicaciones generalmente conducen a sistemas de EDOs cuya solución incluye varios términos con magnitudes que varían con el tiempo a un ritmo significativamente diferente. Por ejemplo, un sistema de masa de resorte, en el que la masa puede oscilar de izquierda a derecha y oscilar hacia arriba y hacia abajo debido al resorte. Por lo tanto, tenemos dos escalas de tiempo diferentes, es decir, la escala de tiempo del movimiento de balanceo y la del movimiento de oscilación. Si el resorte es realmente rígido, la escala de tiempo del movimiento de oscilación será mucho más pequeña que la del movimiento de balanceo. Para estudiar el sistema, tenemos que usar un paso de tiempo muy pequeño para obtener una buena solución para la oscilación.\n",
    "\n",
    "Según las propiedades de la EDO y el nivel de precisión deseado, es posible que debamos usar diferentes métodos para `solve_ivp`. Como sugiere la documentación de esta funcion, el método `RK45` o `RK23` para problemas no rígidos y `Radau` o `BDF` para problemas rígidos. Si no está seguro, primero intente ejecutar `RK45`. Si esta solución experimenta un número inusualmente alto de iteraciones, divergencias o fallas, es probable que este problema sea rígido y debe usar `Radau` o `BDF`. `LSODA` también puede ser una buena opción universal, pero podría ser un poco menos conveniente trabajar, ya que envuelve el código antiguo de Fortran."
   ]
  }
 ],
 "metadata": {
  "kernelspec": {
   "display_name": "Python 3.8.10 64-bit",
   "language": "python",
   "name": "python3"
  },
  "language_info": {
   "codemirror_mode": {
    "name": "ipython",
    "version": 3
   },
   "file_extension": ".py",
   "mimetype": "text/x-python",
   "name": "python",
   "nbconvert_exporter": "python",
   "pygments_lexer": "ipython3",
   "version": "3.8.10"
  },
  "orig_nbformat": 4,
  "vscode": {
   "interpreter": {
    "hash": "916dbcbb3f70747c44a77c7bcd40155683ae19c65e1c03b4aa3499c5328201f1"
   }
  }
 },
 "nbformat": 4,
 "nbformat_minor": 2
}
