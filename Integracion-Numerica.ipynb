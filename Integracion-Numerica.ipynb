{
 "cells": [
  {
   "cell_type": "markdown",
   "metadata": {},
   "source": [
    "# Integracion Numerica"
   ]
  },
  {
   "cell_type": "markdown",
   "metadata": {},
   "source": [
    "Dada una funcion $f(x)$, queremos aproximar la integral de $f(x)$ sobre el intervalo $[a,b]$.  Para hacerlo asumiremos que el intervalo ha sido discretizado en una malla, x, que consiste en $n+1$ puntos con longitud $h=\\frac{b-a}{n}$."
   ]
  },
  {
   "cell_type": "code",
   "execution_count": 1,
   "metadata": {},
   "outputs": [],
   "source": [
    "import numpy as np\n",
    "\n",
    "import matplotlib.pyplot as plt\n",
    "\n",
    "%matplotlib inline\n",
    "plt.style.use('seaborn-poster')"
   ]
  },
  {
   "cell_type": "markdown",
   "metadata": {},
   "source": [
    "## Integral de Riemann"
   ]
  },
  {
   "cell_type": "code",
   "execution_count": 2,
   "metadata": {},
   "outputs": [],
   "source": [
    "a = 0\n",
    "b = np.pi\n",
    "n = 11\n",
    "h = (b - a) / (n - 1)\n",
    "x = np.linspace(a, b, n)\n",
    "f = np.sin(x)"
   ]
  },
  {
   "cell_type": "code",
   "execution_count": 3,
   "metadata": {},
   "outputs": [],
   "source": [
    "I_riemannL = h * sum(f[:n-1])\n",
    "err_riemannL = 2 - I_riemannL"
   ]
  },
  {
   "cell_type": "code",
   "execution_count": 4,
   "metadata": {},
   "outputs": [],
   "source": [
    "I_riemannR = h * sum(f[1::])\n",
    "err_riemannR = 2 - I_riemannR"
   ]
  },
  {
   "cell_type": "code",
   "execution_count": 5,
   "metadata": {},
   "outputs": [],
   "source": [
    "I_mid = h * sum(np.sin((x[:n-1] \\\n",
    "        + x[1:])/2))"
   ]
  },
  {
   "cell_type": "code",
   "execution_count": 6,
   "metadata": {},
   "outputs": [],
   "source": [
    "err_mid = 2 - I_mid"
   ]
  },
  {
   "cell_type": "code",
   "execution_count": 7,
   "metadata": {},
   "outputs": [
    {
     "name": "stdout",
     "output_type": "stream",
     "text": [
      "Aproximacion por puntos minimos: 1.9835235375094546\n",
      "Error de la aproximacion: 0.01647646249054535\n",
      "\n",
      "Aproximacion por puntos maximos: 1.9835235375094546\n",
      "Error de la aproximacion: 0.01647646249054535\n",
      "\n",
      "Aproximacion por puntos medios: 2.0082484079079745\n",
      "Error de la aproximacion: -0.008248407907974542\n"
     ]
    }
   ],
   "source": [
    "print(f'Aproximacion por puntos minimos: {I_riemannL}')\n",
    "print(f'Error de la aproximacion: {err_riemannL}\\n')\n",
    "\n",
    "print(f'Aproximacion por puntos maximos: {I_riemannR}')\n",
    "print(f'Error de la aproximacion: {err_riemannR}\\n')\n",
    "\n",
    "\n",
    "print(f'Aproximacion por puntos medios: {I_mid}')\n",
    "print(f'Error de la aproximacion: {err_mid}')"
   ]
  },
  {
   "cell_type": "markdown",
   "metadata": {},
   "source": [
    "## Regla del Trapecio\n",
    "\n",
    "Para cada subintervalo, la regla del trapecio calcula el area del trapecio con esquinas $(x_i,0)$, $(x_{i+1},0)$, $(x_i,f(x_i))$ y $(x_{i+1},f(x_{i+1}))$, lo cual es $f\\dfrac{f(x_i)+f(x_{i+1})}{2}$. Asi, la regla del trapecio aproxima la integral acorde a la expresion:\n",
    "$$\\int_{a}^{b}f(x)\\,dx\\approx h\\sum_{i=0}^{n-1}\\dfrac{f(x_i)+f(x_{i+1})}{2}.$$\n",
    "\n",
    "El orden de la regla del trapecio es $O(h^3)$ para cada subintervalo, mientras que en todo el intervalo es $O(h^2)$."
   ]
  },
  {
   "cell_type": "code",
   "execution_count": 8,
   "metadata": {},
   "outputs": [],
   "source": [
    "a = 0\n",
    "b = np.pi\n",
    "n = 10\n",
    "h = (b - a) / (n - 1)\n",
    "x = np.linspace(a, b, n)\n",
    "f = np.sin(x)"
   ]
  },
  {
   "cell_type": "code",
   "execution_count": 9,
   "metadata": {},
   "outputs": [],
   "source": [
    "I_trap = (h/2)*(f[0] + \\\n",
    "          2 * sum(f[1:n-1]) + f[n-1])\n",
    "err_trap = 2 - I_trap"
   ]
  },
  {
   "cell_type": "code",
   "execution_count": 10,
   "metadata": {},
   "outputs": [
    {
     "name": "stdout",
     "output_type": "stream",
     "text": [
      "Aproximacion: 1.9796508112164832\n",
      "Error de la aproximacion: 0.02034918878351677\n"
     ]
    }
   ],
   "source": [
    "print(f'Aproximacion: {I_trap}')\n",
    "print(f'Error de la aproximacion: {err_trap}')"
   ]
  },
  {
   "cell_type": "markdown",
   "metadata": {},
   "source": [
    "## Regla de Simpson\n",
    "\n",
    "Consideremos dos subintervalos consecutivos $[x_{i-1},x_i]$ y $[x_i,x_{i+1}]$. La regla de Simpson aproxima la integral de $f(x)$ sobre estos dos subintervalos ajustando un polinomio cuadratico sobre los puntos $(x_{i-1},f(x_{i-1}))$, $(x_i,f(x_i))$ y $(x_{i+1},f(x_{i+1}))$, el cual es el unico polinomio cuadratico que verifica estas condiciones, y luego integrando el polinomio cuadratico.\n",
    "\n",
    "Veamos como se ve en estos dos subintervalos:\n",
    "$$\\int_{x_{i-1}}^{x_{i+1}}f(x)\\,dx\\approx\\dfrac{h}{3}\\big(f(x_{i-1})+4f(x_i)+f(x_{i+1})\\big),$$\n",
    "por tanto\n",
    "$$\\int_{a}^{b}f(x)\\,dx\\approx\\dfrac{h}{3}\\sum_{i+1}^{n-1}\\big(f(x_{i-1})+4f(x_i)+f(x_{i+1})\\big).$$\n",
    "\n",
    "El orden de este metodo es $O(h^5)$ en cada uno de los subintervalos y $O(h^4)$ en todo el intervalo."
   ]
  },
  {
   "cell_type": "code",
   "execution_count": 11,
   "metadata": {},
   "outputs": [],
   "source": [
    "a = 0\n",
    "b = np.pi\n",
    "n = 11\n",
    "h = (b - a) / (n - 1)\n",
    "x = np.linspace(a, b, n)\n",
    "f = np.sin(x)\n"
   ]
  },
  {
   "cell_type": "code",
   "execution_count": 12,
   "metadata": {},
   "outputs": [],
   "source": [
    "I_simp = (h/3) * (f[0] + 2*sum(f[:n-2:2]) \\\n",
    "            + 4*sum(f[1:n-1:2]) + f[n-1])\n",
    "err_simp = 2 - I_simp"
   ]
  },
  {
   "cell_type": "code",
   "execution_count": 13,
   "metadata": {},
   "outputs": [
    {
     "name": "stdout",
     "output_type": "stream",
     "text": [
      "Aproximacion: 2.0001095173150043\n",
      "Error: -0.00010951731500430384\n"
     ]
    }
   ],
   "source": [
    "print(f'Aproximacion: {I_simp}')\n",
    "print(f'Error: {err_simp}')"
   ]
  },
  {
   "cell_type": "markdown",
   "metadata": {},
   "source": [
    "## Integrales con Scipy"
   ]
  },
  {
   "cell_type": "markdown",
   "metadata": {},
   "source": [
    "### Con funcion `trapz`"
   ]
  },
  {
   "cell_type": "code",
   "execution_count": 14,
   "metadata": {},
   "outputs": [],
   "source": [
    "from scipy.integrate import trapz"
   ]
  },
  {
   "cell_type": "code",
   "execution_count": 15,
   "metadata": {},
   "outputs": [],
   "source": [
    "a = 0\n",
    "b = np.pi\n",
    "n = 11\n",
    "h = (b - a) / (n - 1)\n",
    "x = np.linspace(a, b, n)\n",
    "f = np.sin(x)"
   ]
  },
  {
   "cell_type": "code",
   "execution_count": 16,
   "metadata": {},
   "outputs": [],
   "source": [
    "I_trapz = trapz(f,x)\n",
    "I_trap = (h/2)*(f[0] + 2 * sum(f[1:n-1]) + f[n-1])"
   ]
  },
  {
   "cell_type": "code",
   "execution_count": 17,
   "metadata": {},
   "outputs": [
    {
     "name": "stdout",
     "output_type": "stream",
     "text": [
      "Aproximacion con trapz de scipy: 1.9835235375094544\n",
      "Aproximacion con el metodo trapecio: 1.9835235375094546\n"
     ]
    }
   ],
   "source": [
    "print(f'Aproximacion con trapz de scipy: {I_trapz}')\n",
    "print(f'Aproximacion con el metodo trapecio: {I_trap}')"
   ]
  },
  {
   "cell_type": "markdown",
   "metadata": {},
   "source": [
    "### Con funcion `cumtrapz`"
   ]
  },
  {
   "cell_type": "code",
   "execution_count": 18,
   "metadata": {},
   "outputs": [],
   "source": [
    "from scipy.integrate import cumtrapz"
   ]
  },
  {
   "cell_type": "code",
   "execution_count": 19,
   "metadata": {},
   "outputs": [],
   "source": [
    "x = np.arange(0, np.pi, 0.01)\n",
    "F_exact = -np.cos(x)\n",
    "F_approx = cumtrapz(np.sin(x), x)"
   ]
  },
  {
   "cell_type": "code",
   "execution_count": 20,
   "metadata": {},
   "outputs": [
    {
     "data": {
      "image/png": "[encoded data removed]",
      "text/plain": [
       "<Figure size 720x432 with 1 Axes>"
      ]
     },
     "metadata": {
      "needs_background": "light"
     },
     "output_type": "display_data"
    }
   ],
   "source": [
    "# Comparacion\n",
    "plt.figure(figsize = (10,6))\n",
    "plt.plot(x, F_exact)\n",
    "plt.plot(x[1::], F_approx)\n",
    "plt.grid()\n",
    "plt.tight_layout()\n",
    "plt.title('$F(x) = \\int_0^{x} sin(y) dy$')\n",
    "plt.xlabel('x')\n",
    "plt.ylabel('f(x)')\n",
    "plt.legend(['Exacta con desplazamiento', 'Aproximacion'])\n",
    "plt.show()"
   ]
  },
  {
   "cell_type": "markdown",
   "metadata": {},
   "source": [
    "### Con funcion `quad`"
   ]
  },
  {
   "cell_type": "code",
   "execution_count": 21,
   "metadata": {},
   "outputs": [],
   "source": [
    "from scipy.integrate import quad "
   ]
  },
  {
   "cell_type": "code",
   "execution_count": 22,
   "metadata": {},
   "outputs": [],
   "source": [
    "I_quad, est_err_quad = quad(np.sin, 0, np.pi)\n",
    "err_quad = 2 - I_quad"
   ]
  },
  {
   "cell_type": "code",
   "execution_count": 23,
   "metadata": {},
   "outputs": [
    {
     "name": "stdout",
     "output_type": "stream",
     "text": [
      "Aproximacion con quad: 2.0\n",
      "Error de estimacion de la aproximacion con quad: 2.220446049250313e-14\n",
      "Error calculado: 0.0\n"
     ]
    }
   ],
   "source": [
    "print(f'Aproximacion con quad: {I_quad}')\n",
    "print(f'Error de estimacion de la aproximacion con quad: {est_err_quad}')\n",
    "print(f'Error calculado: {err_quad}')"
   ]
  }
 ],
 "metadata": {
  "kernelspec": {
   "display_name": "Python 3.8.10 64-bit",
   "language": "python",
   "name": "python3"
  },
  "language_info": {
   "codemirror_mode": {
    "name": "ipython",
    "version": 3
   },
   "file_extension": ".py",
   "mimetype": "text/x-python",
   "name": "python",
   "nbconvert_exporter": "python",
   "pygments_lexer": "ipython3",
   "version": "3.8.10"
  },
  "orig_nbformat": 4,
  "vscode": {
   "interpreter": {
    "hash": "916dbcbb3f70747c44a77c7bcd40155683ae19c65e1c03b4aa3499c5328201f1"
   }
  }
 },
 "nbformat": 4,
 "nbformat_minor": 2
}
